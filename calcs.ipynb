{
 "metadata": {
  "language_info": {
   "codemirror_mode": {
    "name": "ipython",
    "version": 3
   },
   "file_extension": ".py",
   "mimetype": "text/x-python",
   "name": "python",
   "nbconvert_exporter": "python",
   "pygments_lexer": "ipython3",
   "version": "3.9.0-final"
  },
  "orig_nbformat": 2,
  "kernelspec": {
   "name": "Python 3.9.0 64-bit",
   "display_name": "Python 3.9.0 64-bit",
   "metadata": {
    "interpreter": {
     "hash": "b5843a13e7131a14c3c0e364f0390d6592a995e3082c3f83420ac4385eeb2370"
    }
   }
  }
 },
 "nbformat": 4,
 "nbformat_minor": 2,
 "cells": [
  {
   "cell_type": "code",
   "execution_count": 1,
   "metadata": {
    "tags": []
   },
   "outputs": [],
   "source": [
    "import math\n",
    "import functions as fun\n",
    "from predeformation import *"
   ]
  },
  {
   "cell_type": "code",
   "execution_count": 2,
   "metadata": {},
   "outputs": [
    {
     "output_type": "execute_result",
     "data": {
      "text/plain": [
       "0.9999999999999999"
      ]
     },
     "metadata": {},
     "execution_count": 2
    }
   ],
   "source": [
    "fun.dtan(45)"
   ]
  },
  {
   "cell_type": "code",
   "execution_count": 3,
   "metadata": {
    "tags": []
   },
   "outputs": [
    {
     "output_type": "stream",
     "name": "stdout",
     "text": [
      "2.002493664622307\n"
     ]
    }
   ],
   "source": [
    "BByte = 2150161200/(1024*1024*1024)\n",
    "print(BByte)"
   ]
  },
  {
   "cell_type": "code",
   "execution_count": 4,
   "metadata": {},
   "outputs": [
    {
     "output_type": "execute_result",
     "data": {
      "text/plain": [
       "216.76989309769576"
      ]
     },
     "metadata": {},
     "execution_count": 4
    }
   ],
   "source": [
    "2*math.pi*759/22"
   ]
  },
  {
   "cell_type": "code",
   "execution_count": 5,
   "metadata": {
    "tags": []
   },
   "outputs": [
    {
     "output_type": "stream",
     "name": "stdout",
     "text": [
      "1.0683760683760684\nper Month:  128.2051282051282\n"
     ]
    }
   ],
   "source": [
    "workHoursYear = 30*52\n",
    "cpYears = 3\n",
    "cpPrice = 5000\n",
    "pricePerHour = cpPrice/(cpYears*workHoursYear)\n",
    "print(pricePerHour)\n",
    "print('per Month: ', str(pricePerHour*30*4))"
   ]
  },
  {
   "cell_type": "code",
   "execution_count": 6,
   "metadata": {
    "tags": []
   },
   "outputs": [
    {
     "output_type": "stream",
     "name": "stdout",
     "text": [
      "Predeformation of 56.86 mm for thickness 120 mm, radius 7700 mm and length 6360 mm.\n"
     ]
    }
   ],
   "source": [
    "pdef = predef(radius=7700,length=6360,thickness=120)"
   ]
  },
  {
   "cell_type": "code",
   "execution_count": 8,
   "metadata": {
    "tags": []
   },
   "outputs": [
    {
     "output_type": "stream",
     "name": "stdout",
     "text": [
      "108203.741184\n"
     ]
    },
    {
     "output_type": "execute_result",
     "data": {
      "text/plain": [
       "107600"
      ]
     },
     "metadata": {},
     "execution_count": 8
    }
   ],
   "source": [
    "dia = 16\n",
    "fy = 538.16\n",
    "area = 3.1416*dia*dia/4\n",
    "force = area*fy\n",
    "print(force)\n",
    "Es = 210000\n",
    "200*538"
   ]
  },
  {
   "cell_type": "code",
   "execution_count": 13,
   "metadata": {
    "tags": []
   },
   "outputs": [
    {
     "output_type": "stream",
     "name": "stdout",
     "text": [
      "1.1309733552923256\n2.269800692218625\n"
     ]
    }
   ],
   "source": [
    "print(fun.carea(1.2))\n",
    "print(fun.carea(1.7))"
   ]
  },
  {
   "cell_type": "code",
   "execution_count": 14,
   "metadata": {
    "tags": []
   },
   "outputs": [
    {
     "output_type": "stream",
     "name": "stdout",
     "text": [
      "66.31448462219383\n",
      "88.68551537780617\n",
      "42592.5 42592.5\n"
     ]
    }
   ],
   "source": [
    "mtotal = 225*189.3\n",
    "mC = 70*251.758\n",
    "aCoeff = 75.126-225.375\n",
    "aMult = 155*225.375\n",
    "aVal = (mtotal-mC-aMult)/aCoeff\n",
    "print(aVal)\n",
    "bVal = 155-aVal\n",
    "print(bVal)\n",
    "\n",
    "sum1 = aVal*75.126+bVal*225.375+70*251.758\n",
    "print(sum1, mtotal)"
   ]
  },
  {
   "cell_type": "code",
   "execution_count": 26,
   "metadata": {},
   "outputs": [
    {
     "output_type": "stream",
     "name": "stdout",
     "text": [
      "11.53 193.704 332.06399999999996\n"
     ]
    }
   ],
   "source": [
    "kdiameter = 4.1319\n",
    "yieldStress = 24\n",
    "tensileStress = 40\n",
    "# karea = math.pi*kdiameter**2/4\n",
    "# karea = 5.61\n",
    "karea = 11.53\n",
    "\n",
    "vorspannkraft = 0.7*karea*yieldStress\n",
    "resistant = 0.9*karea*tensileStress/1.25\n",
    "\n",
    "print(karea, vorspannkraft, resistant)"
   ]
  },
  {
   "cell_type": "code",
   "execution_count": 52,
   "metadata": {},
   "outputs": [
    {
     "output_type": "stream",
     "name": "stdout",
     "text": [
      "Outer lugs - minimum edge distance:  4.234741784037559  and  2.734741784037559\nInner lug - minimum edge distance:  3.926056338028169  and  2.426056338028169\n165.49367999010312  <=  88.75 False\nshearing of bolt: 271.010124 >=  263 True\nTrue\nTrue\nTrue\nFalse\n"
     ]
    }
   ],
   "source": [
    "diameter = 2.25*2\n",
    "sideDiameterIn = 2.25*2\n",
    "centerDiameterIn = 3.4*2\n",
    "outerDiameter = 5.5*2\n",
    "\n",
    "sideThickness = 3\n",
    "centerThickness = 4\n",
    "gap = 0.5\n",
    "\n",
    "axialForce = 263\n",
    "gammaM0 = 1\n",
    "gammaM1 = 1\n",
    "gammaM2 = 1.25\n",
    "gammaM3 = 1.25\n",
    "gammM3ser = 1.1\n",
    "gammaM4 = 1\n",
    "gammaM5 = 1\n",
    "gammaM6ser = 1.0\n",
    "gammaM7 = 1.1\n",
    "\n",
    "eModulus = 21000\n",
    "yieldStress = 35.5\n",
    "\n",
    "Wel = 100\n",
    "\n",
    "# edge distance for outer lugs\n",
    "minA = axialForce*gammaM0/(2*sideThickness*yieldStress)+2*sideDiameterIn/3\n",
    "minC = axialForce*gammaM0/(2*sideThickness*yieldStress)+ sideDiameterIn/3\n",
    "print(\"Outer lugs - minimum edge distance: \", minA,\" and \", minC) \n",
    "\n",
    "# edge distance for inner lug\n",
    "minA = axialForce*gammaM0/(2*centerThickness*yieldStress)+2*sideDiameterIn/3\n",
    "minC = axialForce*gammaM0/(2*centerThickness*yieldStress)+ sideDiameterIn/3\n",
    "print(\"Inner lug - minimum edge distance: \", minA,\" and \", minC) \n",
    "\n",
    "stresshEd = 0.591*math.sqrt(eModulus*axialForce/2*(centerDiameterIn-diameter)/(diameter**2*centerThickness))\n",
    "fhRd = 2.5*yieldStress/gammaM6ser\n",
    "print(stresshEd, \" <= \", fhRd, stresshEd <= fhRd)\n",
    "\n",
    "# Shearing of bolt\n",
    "fvRd = 0.6*3.1416*diameter**2/4*yieldStress/gammaM2\n",
    "fvEd = axialForce\n",
    "print(\"shearing of bolt:\", fvRd, \">= \", fvEd, fvRd >= fvEd)\n",
    "\n",
    "# Bearing\n",
    "fbRd = 1.5*sideThickness*diameter*yieldStress/gammaM0\n",
    "fbRdser = 0.6*sideThickness*diameter*yieldStress/gammaM6ser\n",
    "fbEd = axialForce\n",
    "print(\"bearing pressure: \", fbEd, \"<=\", fbRd, fbEd <= fbRd)\n",
    "\n",
    "# Bending of the Bolt\n",
    "mRd = 1.5*Wel*yieldStress/gammaM0\n",
    "mRdser = 0.8*Wel*yieldStress/gammaM6ser\n",
    "\n",
    "mEd = axialForce/8*(centerThickness+4*gap+2*sideThickness)\n",
    "mEdser = mEd/2\n",
    "\n",
    "print(mRd >= mEd)\n",
    "print(mRdser >= mEdser)\n",
    "\n",
    "# shear and bending\n",
    "print((mEd/mRd)**2+(fvRd/fvEd)**2 <= 1)\n"
   ]
  },
  {
   "cell_type": "code",
   "execution_count": 1,
   "metadata": {},
   "outputs": [
    {
     "output_type": "execute_result",
     "data": {
      "text/plain": [
       "9"
      ]
     },
     "metadata": {},
     "execution_count": 1
    }
   ],
   "source": [
    "3+6"
   ]
  }
 ]
}