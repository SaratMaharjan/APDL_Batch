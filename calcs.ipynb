{
 "metadata": {
  "language_info": {
   "codemirror_mode": {
    "name": "ipython",
    "version": 3
   },
   "file_extension": ".py",
   "mimetype": "text/x-python",
   "name": "python",
   "nbconvert_exporter": "python",
   "pygments_lexer": "ipython3",
   "version": "3.7.0-final"
  },
  "orig_nbformat": 2,
  "kernelspec": {
   "name": "python_defaultSpec_1600428577060",
   "display_name": "Python 3.7.0 32-bit"
  }
 },
 "nbformat": 4,
 "nbformat_minor": 2,
 "cells": [
  {
   "cell_type": "code",
   "execution_count": 1,
   "metadata": {
    "tags": []
   },
   "outputs": [],
   "source": [
    "import math\n",
    "import functions as fun\n",
    "from predeformation import *"
   ]
  },
  {
   "cell_type": "code",
   "execution_count": 2,
   "metadata": {},
   "outputs": [
    {
     "output_type": "execute_result",
     "data": {
      "text/plain": "0.9999999999999999"
     },
     "metadata": {},
     "execution_count": 2
    }
   ],
   "source": [
    "fun.dtan(45)"
   ]
  },
  {
   "cell_type": "code",
   "execution_count": 3,
   "metadata": {
    "tags": []
   },
   "outputs": [
    {
     "output_type": "stream",
     "name": "stdout",
     "text": "2.002493664622307\n"
    }
   ],
   "source": [
    "BByte = 2150161200/(1024*1024*1024)\n",
    "print(BByte)"
   ]
  },
  {
   "cell_type": "code",
   "execution_count": 4,
   "metadata": {},
   "outputs": [
    {
     "output_type": "execute_result",
     "data": {
      "text/plain": "216.76989309769576"
     },
     "metadata": {},
     "execution_count": 4
    }
   ],
   "source": [
    "2*math.pi*759/22"
   ]
  },
  {
   "cell_type": "code",
   "execution_count": 5,
   "metadata": {
    "tags": []
   },
   "outputs": [
    {
     "output_type": "stream",
     "name": "stdout",
     "text": "1.0683760683760684\nper Month:  128.2051282051282\n"
    }
   ],
   "source": [
    "workHoursYear = 30*52\n",
    "cpYears = 3\n",
    "cpPrice = 5000\n",
    "pricePerHour = cpPrice/(cpYears*workHoursYear)\n",
    "print(pricePerHour)\n",
    "print('per Month: ', str(pricePerHour*30*4))"
   ]
  },
  {
   "cell_type": "code",
   "execution_count": 6,
   "metadata": {
    "tags": []
   },
   "outputs": [
    {
     "output_type": "stream",
     "name": "stdout",
     "text": "Predeformation of 56.86 mm for thickness 120 mm, radius 7700 mm and length 6360 mm.\n"
    }
   ],
   "source": [
    "pdef = predef(radius=7700,length=6360,thickness=120)"
   ]
  },
  {
   "cell_type": "code",
   "execution_count": 7,
   "metadata": {},
   "outputs": [
    {
     "output_type": "execute_result",
     "data": {
      "text/plain": "129.0"
     },
     "metadata": {},
     "execution_count": 7
    }
   ],
   "source": [
    "172*0.75"
   ]
  },
  {
   "cell_type": "code",
   "execution_count": 8,
   "metadata": {
    "tags": []
   },
   "outputs": [
    {
     "output_type": "stream",
     "name": "stdout",
     "text": "108203.741184\n"
    },
    {
     "output_type": "execute_result",
     "data": {
      "text/plain": "107600"
     },
     "metadata": {},
     "execution_count": 8
    }
   ],
   "source": [
    "dia = 16\n",
    "fy = 538.16\n",
    "area = 3.1416*dia*dia/4\n",
    "force = area*fy\n",
    "print(force)\n",
    "Es = 210000\n",
    "200*538"
   ]
  },
  {
   "cell_type": "code",
   "execution_count": 9,
   "metadata": {},
   "outputs": [
    {
     "output_type": "execute_result",
     "data": {
      "text/plain": "0.00865"
     },
     "metadata": {},
     "execution_count": 9
    }
   ],
   "source": [
    "0.0173*0.5\n"
   ]
  },
  {
   "cell_type": "code",
   "execution_count": 10,
   "metadata": {},
   "outputs": [
    {
     "output_type": "execute_result",
     "data": {
      "text/plain": "20.0"
     },
     "metadata": {},
     "execution_count": 10
    }
   ],
   "source": [
    "80/4\n"
   ]
  },
  {
   "cell_type": "code",
   "execution_count": 11,
   "metadata": {},
   "outputs": [
    {
     "output_type": "execute_result",
     "data": {
      "text/plain": "6.860482103725347"
     },
     "metadata": {},
     "execution_count": 11
    }
   ],
   "source": [
    "2348/342.25"
   ]
  },
  {
   "cell_type": "code",
   "execution_count": 12,
   "metadata": {},
   "outputs": [
    {
     "output_type": "execute_result",
     "data": {
      "text/plain": "2395.75"
     },
     "metadata": {},
     "execution_count": 12
    }
   ],
   "source": [
    "7*342.25\n"
   ]
  },
  {
   "cell_type": "code",
   "execution_count": 14,
   "metadata": {
    "tags": []
   },
   "outputs": [
    {
     "output_type": "stream",
     "name": "stdout",
     "text": "1.1309733552923256\n2.269800692218625\n"
    }
   ],
   "source": [
    "print(fun.carea(1.2))\n",
    "print(fun.carea(1.7))"
   ]
  },
  {
   "cell_type": "code",
   "execution_count": 22,
   "metadata": {
    "tags": []
   },
   "outputs": [
    {
     "output_type": "stream",
     "name": "stdout",
     "text": "66.31448462219383\n88.68551537780617\n42592.5 42592.5\n"
    }
   ],
   "source": [
    "mtotal = 225*189.3\n",
    "mC = 70*251.758\n",
    "aCoeff = 75.126-225.375\n",
    "aMult = 155*225.375\n",
    "aVal = (mtotal-mC-aMult)/aCoeff\n",
    "print(aVal)\n",
    "bVal = 155-aVal\n",
    "print(bVal)\n",
    "\n",
    "sum1 = aVal*75.126+bVal*225.375+70*251.758\n",
    "print(sum1, mtotal)"
   ]
  }
 ]
}