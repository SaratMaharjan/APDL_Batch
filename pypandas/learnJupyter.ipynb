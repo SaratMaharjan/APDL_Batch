{
 "cells": [
  {
   "cell_type": "code",
   "execution_count": 4,
   "metadata": {},
   "outputs": [],
   "source": [
    "import pandas"
   ]
  },
  {
   "cell_type": "code",
   "execution_count": 5,
   "metadata": {
    "scrolled": true
   },
   "outputs": [
    {
     "output_type": "execute_result",
     "data": {
      "text/plain": "  Country  Clicks\n6   India      37\n7     USA      40\n8     USA      52",
      "text/html": "<div>\n<style scoped>\n    .dataframe tbody tr th:only-of-type {\n        vertical-align: middle;\n    }\n\n    .dataframe tbody tr th {\n        vertical-align: top;\n    }\n\n    .dataframe thead th {\n        text-align: right;\n    }\n</style>\n<table border=\"1\" class=\"dataframe\">\n  <thead>\n    <tr style=\"text-align: right;\">\n      <th></th>\n      <th>Country</th>\n      <th>Clicks</th>\n    </tr>\n  </thead>\n  <tbody>\n    <tr>\n      <th>6</th>\n      <td>India</td>\n      <td>37</td>\n    </tr>\n    <tr>\n      <th>7</th>\n      <td>USA</td>\n      <td>40</td>\n    </tr>\n    <tr>\n      <th>8</th>\n      <td>USA</td>\n      <td>52</td>\n    </tr>\n  </tbody>\n</table>\n</div>"
     },
     "metadata": {},
     "execution_count": 5
    }
   ],
   "source": [
    "# df1 = pandas.read_csv(\"traffic.csv\", header = None)\n",
    "df1 = pandas.read_csv(\"traffic.csv\")\n",
    "df1\n",
    "df3 = pandas.read_json(\"traffic.json\")\n",
    "df3\n",
    "df2 = pandas.read_excel(\"traffic.xlsx\")\n",
    "df2 = df2.set_index(\"Date\")\n",
    "df2\n",
    "df4 = pandas.read_csv(\"traffic-commas.txt\")\n",
    "df4\n",
    "df5 = pandas.read_csv(\"traffic-semi-colons.txt\", sep=\";\")\n",
    "df5\n",
    "df6 = pandas.read_csv(\"https://goo.gl/opfGg4\")\n",
    "df6\n",
    "df7 = df6.loc[2:5, \"Country\":\"Clicks\"]\n",
    "df7\n",
    "df6.loc[:, \"Country\"]\n",
    "df6.iloc[6:9, 3:5]"
   ]
  },
  {
   "cell_type": "code",
   "execution_count": 7,
   "metadata": {},
   "outputs": [
    {
     "output_type": "execute_result",
     "data": {
      "text/plain": "   Date  Visitors  BR    Country  Clicks        Day\n0     1      1500  20        USA      20    Tuesday\n1     2       700  25         UK      35  Wednesday\n2     3       900  15      India      37   Thursday\n3     4       400  35        USA      12     Friday\n4     5       500  14     Canada      35   Saturday\n5     6       700  15      India      32     Sunday\n6     7       600  20      India      37     Monday\n7     8       700  16        USA      40    Tuesday\n8     9      1200  27        USA      52  Wednesday\n9    10      1400  32  Australia      57   Thursday",
      "text/html": "<div>\n<style scoped>\n    .dataframe tbody tr th:only-of-type {\n        vertical-align: middle;\n    }\n\n    .dataframe tbody tr th {\n        vertical-align: top;\n    }\n\n    .dataframe thead th {\n        text-align: right;\n    }\n</style>\n<table border=\"1\" class=\"dataframe\">\n  <thead>\n    <tr style=\"text-align: right;\">\n      <th></th>\n      <th>Date</th>\n      <th>Visitors</th>\n      <th>BR</th>\n      <th>Country</th>\n      <th>Clicks</th>\n      <th>Day</th>\n    </tr>\n  </thead>\n  <tbody>\n    <tr>\n      <th>0</th>\n      <td>1</td>\n      <td>1500</td>\n      <td>20</td>\n      <td>USA</td>\n      <td>20</td>\n      <td>Tuesday</td>\n    </tr>\n    <tr>\n      <th>1</th>\n      <td>2</td>\n      <td>700</td>\n      <td>25</td>\n      <td>UK</td>\n      <td>35</td>\n      <td>Wednesday</td>\n    </tr>\n    <tr>\n      <th>2</th>\n      <td>3</td>\n      <td>900</td>\n      <td>15</td>\n      <td>India</td>\n      <td>37</td>\n      <td>Thursday</td>\n    </tr>\n    <tr>\n      <th>3</th>\n      <td>4</td>\n      <td>400</td>\n      <td>35</td>\n      <td>USA</td>\n      <td>12</td>\n      <td>Friday</td>\n    </tr>\n    <tr>\n      <th>4</th>\n      <td>5</td>\n      <td>500</td>\n      <td>14</td>\n      <td>Canada</td>\n      <td>35</td>\n      <td>Saturday</td>\n    </tr>\n    <tr>\n      <th>5</th>\n      <td>6</td>\n      <td>700</td>\n      <td>15</td>\n      <td>India</td>\n      <td>32</td>\n      <td>Sunday</td>\n    </tr>\n    <tr>\n      <th>6</th>\n      <td>7</td>\n      <td>600</td>\n      <td>20</td>\n      <td>India</td>\n      <td>37</td>\n      <td>Monday</td>\n    </tr>\n    <tr>\n      <th>7</th>\n      <td>8</td>\n      <td>700</td>\n      <td>16</td>\n      <td>USA</td>\n      <td>40</td>\n      <td>Tuesday</td>\n    </tr>\n    <tr>\n      <th>8</th>\n      <td>9</td>\n      <td>1200</td>\n      <td>27</td>\n      <td>USA</td>\n      <td>52</td>\n      <td>Wednesday</td>\n    </tr>\n    <tr>\n      <th>9</th>\n      <td>10</td>\n      <td>1400</td>\n      <td>32</td>\n      <td>Australia</td>\n      <td>57</td>\n      <td>Thursday</td>\n    </tr>\n  </tbody>\n</table>\n</div>"
     },
     "metadata": {},
     "execution_count": 7
    }
   ],
   "source": [
    "df1"
   ]
  },
  {
   "cell_type": "code",
   "execution_count": 8,
   "metadata": {},
   "outputs": [
    {
     "output_type": "execute_result",
     "data": {
      "text/plain": "   Date  Visitors  BR    Country  Clicks\n0     1      1500  20        USA      20\n1     2       700  25         UK      35\n2     3       900  15      India      37\n3     4       400  35        USA      12\n4     5       500  14     Canada      35\n5     6       700  15      India      32\n6     7       600  20      India      37\n7     8       700  16        USA      40\n8     9      1200  27        USA      52\n9    10      1400  32  Australia      57",
      "text/html": "<div>\n<style scoped>\n    .dataframe tbody tr th:only-of-type {\n        vertical-align: middle;\n    }\n\n    .dataframe tbody tr th {\n        vertical-align: top;\n    }\n\n    .dataframe thead th {\n        text-align: right;\n    }\n</style>\n<table border=\"1\" class=\"dataframe\">\n  <thead>\n    <tr style=\"text-align: right;\">\n      <th></th>\n      <th>Date</th>\n      <th>Visitors</th>\n      <th>BR</th>\n      <th>Country</th>\n      <th>Clicks</th>\n    </tr>\n  </thead>\n  <tbody>\n    <tr>\n      <th>0</th>\n      <td>1</td>\n      <td>1500</td>\n      <td>20</td>\n      <td>USA</td>\n      <td>20</td>\n    </tr>\n    <tr>\n      <th>1</th>\n      <td>2</td>\n      <td>700</td>\n      <td>25</td>\n      <td>UK</td>\n      <td>35</td>\n    </tr>\n    <tr>\n      <th>2</th>\n      <td>3</td>\n      <td>900</td>\n      <td>15</td>\n      <td>India</td>\n      <td>37</td>\n    </tr>\n    <tr>\n      <th>3</th>\n      <td>4</td>\n      <td>400</td>\n      <td>35</td>\n      <td>USA</td>\n      <td>12</td>\n    </tr>\n    <tr>\n      <th>4</th>\n      <td>5</td>\n      <td>500</td>\n      <td>14</td>\n      <td>Canada</td>\n      <td>35</td>\n    </tr>\n    <tr>\n      <th>5</th>\n      <td>6</td>\n      <td>700</td>\n      <td>15</td>\n      <td>India</td>\n      <td>32</td>\n    </tr>\n    <tr>\n      <th>6</th>\n      <td>7</td>\n      <td>600</td>\n      <td>20</td>\n      <td>India</td>\n      <td>37</td>\n    </tr>\n    <tr>\n      <th>7</th>\n      <td>8</td>\n      <td>700</td>\n      <td>16</td>\n      <td>USA</td>\n      <td>40</td>\n    </tr>\n    <tr>\n      <th>8</th>\n      <td>9</td>\n      <td>1200</td>\n      <td>27</td>\n      <td>USA</td>\n      <td>52</td>\n    </tr>\n    <tr>\n      <th>9</th>\n      <td>10</td>\n      <td>1400</td>\n      <td>32</td>\n      <td>Australia</td>\n      <td>57</td>\n    </tr>\n  </tbody>\n</table>\n</div>"
     },
     "metadata": {},
     "execution_count": 8
    }
   ],
   "source": [
    "df1.drop(\"Day\", 1)"
   ]
  },
  {
   "cell_type": "code",
   "execution_count": 9,
   "metadata": {},
   "outputs": [
    {
     "output_type": "execute_result",
     "data": {
      "text/plain": "   Date  Visitors  BR    Country  Clicks        Day\n0     1      1500  20        USA      20    Tuesday\n1     2       700  25         UK      35  Wednesday\n2     3       900  15      India      37   Thursday\n3     4       400  35        USA      12     Friday\n4     5       500  14     Canada      35   Saturday\n5     6       700  15      India      32     Sunday\n6     7       600  20      India      37     Monday\n7     8       700  16        USA      40    Tuesday\n9    10      1400  32  Australia      57   Thursday",
      "text/html": "<div>\n<style scoped>\n    .dataframe tbody tr th:only-of-type {\n        vertical-align: middle;\n    }\n\n    .dataframe tbody tr th {\n        vertical-align: top;\n    }\n\n    .dataframe thead th {\n        text-align: right;\n    }\n</style>\n<table border=\"1\" class=\"dataframe\">\n  <thead>\n    <tr style=\"text-align: right;\">\n      <th></th>\n      <th>Date</th>\n      <th>Visitors</th>\n      <th>BR</th>\n      <th>Country</th>\n      <th>Clicks</th>\n      <th>Day</th>\n    </tr>\n  </thead>\n  <tbody>\n    <tr>\n      <th>0</th>\n      <td>1</td>\n      <td>1500</td>\n      <td>20</td>\n      <td>USA</td>\n      <td>20</td>\n      <td>Tuesday</td>\n    </tr>\n    <tr>\n      <th>1</th>\n      <td>2</td>\n      <td>700</td>\n      <td>25</td>\n      <td>UK</td>\n      <td>35</td>\n      <td>Wednesday</td>\n    </tr>\n    <tr>\n      <th>2</th>\n      <td>3</td>\n      <td>900</td>\n      <td>15</td>\n      <td>India</td>\n      <td>37</td>\n      <td>Thursday</td>\n    </tr>\n    <tr>\n      <th>3</th>\n      <td>4</td>\n      <td>400</td>\n      <td>35</td>\n      <td>USA</td>\n      <td>12</td>\n      <td>Friday</td>\n    </tr>\n    <tr>\n      <th>4</th>\n      <td>5</td>\n      <td>500</td>\n      <td>14</td>\n      <td>Canada</td>\n      <td>35</td>\n      <td>Saturday</td>\n    </tr>\n    <tr>\n      <th>5</th>\n      <td>6</td>\n      <td>700</td>\n      <td>15</td>\n      <td>India</td>\n      <td>32</td>\n      <td>Sunday</td>\n    </tr>\n    <tr>\n      <th>6</th>\n      <td>7</td>\n      <td>600</td>\n      <td>20</td>\n      <td>India</td>\n      <td>37</td>\n      <td>Monday</td>\n    </tr>\n    <tr>\n      <th>7</th>\n      <td>8</td>\n      <td>700</td>\n      <td>16</td>\n      <td>USA</td>\n      <td>40</td>\n      <td>Tuesday</td>\n    </tr>\n    <tr>\n      <th>9</th>\n      <td>10</td>\n      <td>1400</td>\n      <td>32</td>\n      <td>Australia</td>\n      <td>57</td>\n      <td>Thursday</td>\n    </tr>\n  </tbody>\n</table>\n</div>"
     },
     "metadata": {},
     "execution_count": 9
    }
   ],
   "source": [
    "df9 = df1.drop(8, 0)\n",
    "df9"
   ]
  },
  {
   "cell_type": "code",
   "execution_count": 10,
   "metadata": {},
   "outputs": [
    {
     "output_type": "execute_result",
     "data": {
      "text/plain": "   Date  Visitors  BR    Country  Clicks\n0     1      1500  20        USA      20\n1     2       700  25         UK      35\n2     3       900  15      India      37\n3     4       400  35        USA      12\n4     5       500  14     Canada      35\n5     6       700  15      India      32\n6     7       600  20      India      37\n7     8       700  16        USA      40\n8     9      1200  27        USA      52\n9    10      1400  32  Australia      57",
      "text/html": "<div>\n<style scoped>\n    .dataframe tbody tr th:only-of-type {\n        vertical-align: middle;\n    }\n\n    .dataframe tbody tr th {\n        vertical-align: top;\n    }\n\n    .dataframe thead th {\n        text-align: right;\n    }\n</style>\n<table border=\"1\" class=\"dataframe\">\n  <thead>\n    <tr style=\"text-align: right;\">\n      <th></th>\n      <th>Date</th>\n      <th>Visitors</th>\n      <th>BR</th>\n      <th>Country</th>\n      <th>Clicks</th>\n    </tr>\n  </thead>\n  <tbody>\n    <tr>\n      <th>0</th>\n      <td>1</td>\n      <td>1500</td>\n      <td>20</td>\n      <td>USA</td>\n      <td>20</td>\n    </tr>\n    <tr>\n      <th>1</th>\n      <td>2</td>\n      <td>700</td>\n      <td>25</td>\n      <td>UK</td>\n      <td>35</td>\n    </tr>\n    <tr>\n      <th>2</th>\n      <td>3</td>\n      <td>900</td>\n      <td>15</td>\n      <td>India</td>\n      <td>37</td>\n    </tr>\n    <tr>\n      <th>3</th>\n      <td>4</td>\n      <td>400</td>\n      <td>35</td>\n      <td>USA</td>\n      <td>12</td>\n    </tr>\n    <tr>\n      <th>4</th>\n      <td>5</td>\n      <td>500</td>\n      <td>14</td>\n      <td>Canada</td>\n      <td>35</td>\n    </tr>\n    <tr>\n      <th>5</th>\n      <td>6</td>\n      <td>700</td>\n      <td>15</td>\n      <td>India</td>\n      <td>32</td>\n    </tr>\n    <tr>\n      <th>6</th>\n      <td>7</td>\n      <td>600</td>\n      <td>20</td>\n      <td>India</td>\n      <td>37</td>\n    </tr>\n    <tr>\n      <th>7</th>\n      <td>8</td>\n      <td>700</td>\n      <td>16</td>\n      <td>USA</td>\n      <td>40</td>\n    </tr>\n    <tr>\n      <th>8</th>\n      <td>9</td>\n      <td>1200</td>\n      <td>27</td>\n      <td>USA</td>\n      <td>52</td>\n    </tr>\n    <tr>\n      <th>9</th>\n      <td>10</td>\n      <td>1400</td>\n      <td>32</td>\n      <td>Australia</td>\n      <td>57</td>\n    </tr>\n  </tbody>\n</table>\n</div>"
     },
     "metadata": {},
     "execution_count": 10
    }
   ],
   "source": [
    "df1.drop(df1.columns[5], 1)"
   ]
  },
  {
   "cell_type": "code",
   "execution_count": 11,
   "metadata": {},
   "outputs": [
    {
     "output_type": "execute_result",
     "data": {
      "text/plain": "   Date  Visitors  BR    Country  Clicks        Day\n0     1      1500  20        USA      20    Tuesday\n1     2       700  25         UK      35  Wednesday\n3     4       400  35        USA      12     Friday\n4     5       500  14     Canada      35   Saturday\n5     6       700  15      India      32     Sunday\n6     7       600  20      India      37     Monday\n7     8       700  16        USA      40    Tuesday\n8     9      1200  27        USA      52  Wednesday\n9    10      1400  32  Australia      57   Thursday",
      "text/html": "<div>\n<style scoped>\n    .dataframe tbody tr th:only-of-type {\n        vertical-align: middle;\n    }\n\n    .dataframe tbody tr th {\n        vertical-align: top;\n    }\n\n    .dataframe thead th {\n        text-align: right;\n    }\n</style>\n<table border=\"1\" class=\"dataframe\">\n  <thead>\n    <tr style=\"text-align: right;\">\n      <th></th>\n      <th>Date</th>\n      <th>Visitors</th>\n      <th>BR</th>\n      <th>Country</th>\n      <th>Clicks</th>\n      <th>Day</th>\n    </tr>\n  </thead>\n  <tbody>\n    <tr>\n      <th>0</th>\n      <td>1</td>\n      <td>1500</td>\n      <td>20</td>\n      <td>USA</td>\n      <td>20</td>\n      <td>Tuesday</td>\n    </tr>\n    <tr>\n      <th>1</th>\n      <td>2</td>\n      <td>700</td>\n      <td>25</td>\n      <td>UK</td>\n      <td>35</td>\n      <td>Wednesday</td>\n    </tr>\n    <tr>\n      <th>3</th>\n      <td>4</td>\n      <td>400</td>\n      <td>35</td>\n      <td>USA</td>\n      <td>12</td>\n      <td>Friday</td>\n    </tr>\n    <tr>\n      <th>4</th>\n      <td>5</td>\n      <td>500</td>\n      <td>14</td>\n      <td>Canada</td>\n      <td>35</td>\n      <td>Saturday</td>\n    </tr>\n    <tr>\n      <th>5</th>\n      <td>6</td>\n      <td>700</td>\n      <td>15</td>\n      <td>India</td>\n      <td>32</td>\n      <td>Sunday</td>\n    </tr>\n    <tr>\n      <th>6</th>\n      <td>7</td>\n      <td>600</td>\n      <td>20</td>\n      <td>India</td>\n      <td>37</td>\n      <td>Monday</td>\n    </tr>\n    <tr>\n      <th>7</th>\n      <td>8</td>\n      <td>700</td>\n      <td>16</td>\n      <td>USA</td>\n      <td>40</td>\n      <td>Tuesday</td>\n    </tr>\n    <tr>\n      <th>8</th>\n      <td>9</td>\n      <td>1200</td>\n      <td>27</td>\n      <td>USA</td>\n      <td>52</td>\n      <td>Wednesday</td>\n    </tr>\n    <tr>\n      <th>9</th>\n      <td>10</td>\n      <td>1400</td>\n      <td>32</td>\n      <td>Australia</td>\n      <td>57</td>\n      <td>Thursday</td>\n    </tr>\n  </tbody>\n</table>\n</div>"
     },
     "metadata": {},
     "execution_count": 11
    }
   ],
   "source": [
    "df1.drop(df1.index[2], 0)"
   ]
  },
  {
   "cell_type": "code",
   "execution_count": 12,
   "metadata": {},
   "outputs": [
    {
     "output_type": "execute_result",
     "data": {
      "text/plain": "   Date  Visitors  BR    Country  Clicks        Day  Status Whatever\n0     1      1500  20        USA      20    Tuesday       1        A\n1     2       700  25         UK      35  Wednesday       2        A\n2     3       900  15      India      37   Thursday       3        A\n3     4       400  35        USA      12     Friday       4        A\n4     5       500  14     Canada      35   Saturday       5        A\n5     6       700  15      India      32     Sunday       6        A\n6     7       600  20      India      37     Monday       7        A\n7     8       700  16        USA      40    Tuesday       8        A\n8     9      1200  27        USA      52  Wednesday       9        A\n9    10      1400  32  Australia      57   Thursday      10        A",
      "text/html": "<div>\n<style scoped>\n    .dataframe tbody tr th:only-of-type {\n        vertical-align: middle;\n    }\n\n    .dataframe tbody tr th {\n        vertical-align: top;\n    }\n\n    .dataframe thead th {\n        text-align: right;\n    }\n</style>\n<table border=\"1\" class=\"dataframe\">\n  <thead>\n    <tr style=\"text-align: right;\">\n      <th></th>\n      <th>Date</th>\n      <th>Visitors</th>\n      <th>BR</th>\n      <th>Country</th>\n      <th>Clicks</th>\n      <th>Day</th>\n      <th>Status</th>\n      <th>Whatever</th>\n    </tr>\n  </thead>\n  <tbody>\n    <tr>\n      <th>0</th>\n      <td>1</td>\n      <td>1500</td>\n      <td>20</td>\n      <td>USA</td>\n      <td>20</td>\n      <td>Tuesday</td>\n      <td>1</td>\n      <td>A</td>\n    </tr>\n    <tr>\n      <th>1</th>\n      <td>2</td>\n      <td>700</td>\n      <td>25</td>\n      <td>UK</td>\n      <td>35</td>\n      <td>Wednesday</td>\n      <td>2</td>\n      <td>A</td>\n    </tr>\n    <tr>\n      <th>2</th>\n      <td>3</td>\n      <td>900</td>\n      <td>15</td>\n      <td>India</td>\n      <td>37</td>\n      <td>Thursday</td>\n      <td>3</td>\n      <td>A</td>\n    </tr>\n    <tr>\n      <th>3</th>\n      <td>4</td>\n      <td>400</td>\n      <td>35</td>\n      <td>USA</td>\n      <td>12</td>\n      <td>Friday</td>\n      <td>4</td>\n      <td>A</td>\n    </tr>\n    <tr>\n      <th>4</th>\n      <td>5</td>\n      <td>500</td>\n      <td>14</td>\n      <td>Canada</td>\n      <td>35</td>\n      <td>Saturday</td>\n      <td>5</td>\n      <td>A</td>\n    </tr>\n    <tr>\n      <th>5</th>\n      <td>6</td>\n      <td>700</td>\n      <td>15</td>\n      <td>India</td>\n      <td>32</td>\n      <td>Sunday</td>\n      <td>6</td>\n      <td>A</td>\n    </tr>\n    <tr>\n      <th>6</th>\n      <td>7</td>\n      <td>600</td>\n      <td>20</td>\n      <td>India</td>\n      <td>37</td>\n      <td>Monday</td>\n      <td>7</td>\n      <td>A</td>\n    </tr>\n    <tr>\n      <th>7</th>\n      <td>8</td>\n      <td>700</td>\n      <td>16</td>\n      <td>USA</td>\n      <td>40</td>\n      <td>Tuesday</td>\n      <td>8</td>\n      <td>A</td>\n    </tr>\n    <tr>\n      <th>8</th>\n      <td>9</td>\n      <td>1200</td>\n      <td>27</td>\n      <td>USA</td>\n      <td>52</td>\n      <td>Wednesday</td>\n      <td>9</td>\n      <td>A</td>\n    </tr>\n    <tr>\n      <th>9</th>\n      <td>10</td>\n      <td>1400</td>\n      <td>32</td>\n      <td>Australia</td>\n      <td>57</td>\n      <td>Thursday</td>\n      <td>10</td>\n      <td>A</td>\n    </tr>\n  </tbody>\n</table>\n</div>"
     },
     "metadata": {},
     "execution_count": 12
    }
   ],
   "source": [
    "df1[\"Status\"] = [1, 2, 3, 4, 5, 6, 7, 8, 9, 10]\n",
    "df1[\"Whatever\"] = [\"A\"]*10\n",
    "df1"
   ]
  },
  {
   "cell_type": "code",
   "execution_count": 13,
   "metadata": {},
   "outputs": [
    {
     "output_type": "execute_result",
     "data": {
      "text/plain": "   Date  Visitors  BR    Country  Clicks        Day  Status Whatever\n0     1      1500  20        USA      20    Tuesday       1       AA\n1     2       700  25         UK      35  Wednesday       2       AA\n2     3       900  15      India      37   Thursday       3       AA\n3     4       400  35        USA      12     Friday       4       AA\n4     5       500  14     Canada      35   Saturday       5       AA\n5     6       700  15      India      32     Sunday       6       AA\n6     7       600  20      India      37     Monday       7       AA\n7     8       700  16        USA      40    Tuesday       8       AA\n8     9      1200  27        USA      52  Wednesday       9       AA\n9    10      1400  32  Australia      57   Thursday      10       AA",
      "text/html": "<div>\n<style scoped>\n    .dataframe tbody tr th:only-of-type {\n        vertical-align: middle;\n    }\n\n    .dataframe tbody tr th {\n        vertical-align: top;\n    }\n\n    .dataframe thead th {\n        text-align: right;\n    }\n</style>\n<table border=\"1\" class=\"dataframe\">\n  <thead>\n    <tr style=\"text-align: right;\">\n      <th></th>\n      <th>Date</th>\n      <th>Visitors</th>\n      <th>BR</th>\n      <th>Country</th>\n      <th>Clicks</th>\n      <th>Day</th>\n      <th>Status</th>\n      <th>Whatever</th>\n    </tr>\n  </thead>\n  <tbody>\n    <tr>\n      <th>0</th>\n      <td>1</td>\n      <td>1500</td>\n      <td>20</td>\n      <td>USA</td>\n      <td>20</td>\n      <td>Tuesday</td>\n      <td>1</td>\n      <td>AA</td>\n    </tr>\n    <tr>\n      <th>1</th>\n      <td>2</td>\n      <td>700</td>\n      <td>25</td>\n      <td>UK</td>\n      <td>35</td>\n      <td>Wednesday</td>\n      <td>2</td>\n      <td>AA</td>\n    </tr>\n    <tr>\n      <th>2</th>\n      <td>3</td>\n      <td>900</td>\n      <td>15</td>\n      <td>India</td>\n      <td>37</td>\n      <td>Thursday</td>\n      <td>3</td>\n      <td>AA</td>\n    </tr>\n    <tr>\n      <th>3</th>\n      <td>4</td>\n      <td>400</td>\n      <td>35</td>\n      <td>USA</td>\n      <td>12</td>\n      <td>Friday</td>\n      <td>4</td>\n      <td>AA</td>\n    </tr>\n    <tr>\n      <th>4</th>\n      <td>5</td>\n      <td>500</td>\n      <td>14</td>\n      <td>Canada</td>\n      <td>35</td>\n      <td>Saturday</td>\n      <td>5</td>\n      <td>AA</td>\n    </tr>\n    <tr>\n      <th>5</th>\n      <td>6</td>\n      <td>700</td>\n      <td>15</td>\n      <td>India</td>\n      <td>32</td>\n      <td>Sunday</td>\n      <td>6</td>\n      <td>AA</td>\n    </tr>\n    <tr>\n      <th>6</th>\n      <td>7</td>\n      <td>600</td>\n      <td>20</td>\n      <td>India</td>\n      <td>37</td>\n      <td>Monday</td>\n      <td>7</td>\n      <td>AA</td>\n    </tr>\n    <tr>\n      <th>7</th>\n      <td>8</td>\n      <td>700</td>\n      <td>16</td>\n      <td>USA</td>\n      <td>40</td>\n      <td>Tuesday</td>\n      <td>8</td>\n      <td>AA</td>\n    </tr>\n    <tr>\n      <th>8</th>\n      <td>9</td>\n      <td>1200</td>\n      <td>27</td>\n      <td>USA</td>\n      <td>52</td>\n      <td>Wednesday</td>\n      <td>9</td>\n      <td>AA</td>\n    </tr>\n    <tr>\n      <th>9</th>\n      <td>10</td>\n      <td>1400</td>\n      <td>32</td>\n      <td>Australia</td>\n      <td>57</td>\n      <td>Thursday</td>\n      <td>10</td>\n      <td>AA</td>\n    </tr>\n  </tbody>\n</table>\n</div>"
     },
     "metadata": {},
     "execution_count": 13
    }
   ],
   "source": [
    "df1[\"Whatever\"] = df1[\"Whatever\"]+\"A\"\n",
    "df1"
   ]
  },
  {
   "cell_type": "code",
   "execution_count": 14,
   "metadata": {},
   "outputs": [
    {
     "output_type": "execute_result",
     "data": {
      "text/plain": "                0          1         2       3         4       5       6  \\\nDate            1          2         3       4         5       6       7   \nVisitors     1500        700       900     400       500     700     600   \nBR             20         25        15      35        14      15      20   \nCountry       USA         UK     India     USA    Canada   India   India   \nClicks         20         35        37      12        35      32      37   \nDay       Tuesday  Wednesday  Thursday  Friday  Saturday  Sunday  Monday   \nStatus          1          2         3       4         5       6       7   \nWhatever       AA         AA        AA      AA        AA      AA      AA   \n\n                7          8          9  \nDate            8          9         10  \nVisitors      700       1200       1400  \nBR             16         27         32  \nCountry       USA        USA  Australia  \nClicks         40         52         57  \nDay       Tuesday  Wednesday   Thursday  \nStatus          8          9         10  \nWhatever       AA         AA         AA  ",
      "text/html": "<div>\n<style scoped>\n    .dataframe tbody tr th:only-of-type {\n        vertical-align: middle;\n    }\n\n    .dataframe tbody tr th {\n        vertical-align: top;\n    }\n\n    .dataframe thead th {\n        text-align: right;\n    }\n</style>\n<table border=\"1\" class=\"dataframe\">\n  <thead>\n    <tr style=\"text-align: right;\">\n      <th></th>\n      <th>0</th>\n      <th>1</th>\n      <th>2</th>\n      <th>3</th>\n      <th>4</th>\n      <th>5</th>\n      <th>6</th>\n      <th>7</th>\n      <th>8</th>\n      <th>9</th>\n    </tr>\n  </thead>\n  <tbody>\n    <tr>\n      <th>Date</th>\n      <td>1</td>\n      <td>2</td>\n      <td>3</td>\n      <td>4</td>\n      <td>5</td>\n      <td>6</td>\n      <td>7</td>\n      <td>8</td>\n      <td>9</td>\n      <td>10</td>\n    </tr>\n    <tr>\n      <th>Visitors</th>\n      <td>1500</td>\n      <td>700</td>\n      <td>900</td>\n      <td>400</td>\n      <td>500</td>\n      <td>700</td>\n      <td>600</td>\n      <td>700</td>\n      <td>1200</td>\n      <td>1400</td>\n    </tr>\n    <tr>\n      <th>BR</th>\n      <td>20</td>\n      <td>25</td>\n      <td>15</td>\n      <td>35</td>\n      <td>14</td>\n      <td>15</td>\n      <td>20</td>\n      <td>16</td>\n      <td>27</td>\n      <td>32</td>\n    </tr>\n    <tr>\n      <th>Country</th>\n      <td>USA</td>\n      <td>UK</td>\n      <td>India</td>\n      <td>USA</td>\n      <td>Canada</td>\n      <td>India</td>\n      <td>India</td>\n      <td>USA</td>\n      <td>USA</td>\n      <td>Australia</td>\n    </tr>\n    <tr>\n      <th>Clicks</th>\n      <td>20</td>\n      <td>35</td>\n      <td>37</td>\n      <td>12</td>\n      <td>35</td>\n      <td>32</td>\n      <td>37</td>\n      <td>40</td>\n      <td>52</td>\n      <td>57</td>\n    </tr>\n    <tr>\n      <th>Day</th>\n      <td>Tuesday</td>\n      <td>Wednesday</td>\n      <td>Thursday</td>\n      <td>Friday</td>\n      <td>Saturday</td>\n      <td>Sunday</td>\n      <td>Monday</td>\n      <td>Tuesday</td>\n      <td>Wednesday</td>\n      <td>Thursday</td>\n    </tr>\n    <tr>\n      <th>Status</th>\n      <td>1</td>\n      <td>2</td>\n      <td>3</td>\n      <td>4</td>\n      <td>5</td>\n      <td>6</td>\n      <td>7</td>\n      <td>8</td>\n      <td>9</td>\n      <td>10</td>\n    </tr>\n    <tr>\n      <th>Whatever</th>\n      <td>AA</td>\n      <td>AA</td>\n      <td>AA</td>\n      <td>AA</td>\n      <td>AA</td>\n      <td>AA</td>\n      <td>AA</td>\n      <td>AA</td>\n      <td>AA</td>\n      <td>AA</td>\n    </tr>\n  </tbody>\n</table>\n</div>"
     },
     "metadata": {},
     "execution_count": 14
    }
   ],
   "source": [
    "# to add row, transpose, add columna and transpose back\n",
    "df2 = df1.T\n",
    "df2"
   ]
  },
  {
   "cell_type": "code",
   "execution_count": 15,
   "metadata": {},
   "outputs": [
    {
     "output_type": "error",
     "ename": "ValueError",
     "evalue": "Length of values does not match length of index",
     "traceback": [
      "\u001b[1;31m---------------------------------------------------------------------------\u001b[0m",
      "\u001b[1;31mValueError\u001b[0m                                Traceback (most recent call last)",
      "\u001b[1;32m<ipython-input-15-d8632b50c69f>\u001b[0m in \u001b[0;36m<module>\u001b[1;34m\u001b[0m\n\u001b[1;32m----> 1\u001b[1;33m \u001b[0mdf2\u001b[0m\u001b[1;33m[\u001b[0m\u001b[1;34m\"10\"\u001b[0m\u001b[1;33m]\u001b[0m \u001b[1;33m=\u001b[0m \u001b[1;33m[\u001b[0m\u001b[1;36m11\u001b[0m\u001b[1;33m,\u001b[0m \u001b[1;36m1200\u001b[0m\u001b[1;33m,\u001b[0m \u001b[1;36m23\u001b[0m\u001b[1;33m,\u001b[0m \u001b[1;34m\"US\"\u001b[0m\u001b[1;33m,\u001b[0m \u001b[1;36m36\u001b[0m\u001b[1;33m,\u001b[0m \u001b[1;34m\"noday\"\u001b[0m\u001b[1;33m,\u001b[0m \u001b[1;33m]\u001b[0m\u001b[1;33m\u001b[0m\u001b[0m\n\u001b[0m",
      "\u001b[1;32m~\\AppData\\Local\\Programs\\Python\\Python37-32\\lib\\site-packages\\pandas\\core\\frame.py\u001b[0m in \u001b[0;36m__setitem__\u001b[1;34m(self, key, value)\u001b[0m\n\u001b[0;32m   3485\u001b[0m         \u001b[1;32melse\u001b[0m\u001b[1;33m:\u001b[0m\u001b[1;33m\u001b[0m\u001b[0m\n\u001b[0;32m   3486\u001b[0m             \u001b[1;31m# set column\u001b[0m\u001b[1;33m\u001b[0m\u001b[1;33m\u001b[0m\u001b[0m\n\u001b[1;32m-> 3487\u001b[1;33m             \u001b[0mself\u001b[0m\u001b[1;33m.\u001b[0m\u001b[0m_set_item\u001b[0m\u001b[1;33m(\u001b[0m\u001b[0mkey\u001b[0m\u001b[1;33m,\u001b[0m \u001b[0mvalue\u001b[0m\u001b[1;33m)\u001b[0m\u001b[1;33m\u001b[0m\u001b[0m\n\u001b[0m\u001b[0;32m   3488\u001b[0m \u001b[1;33m\u001b[0m\u001b[0m\n\u001b[0;32m   3489\u001b[0m     \u001b[1;32mdef\u001b[0m \u001b[0m_setitem_slice\u001b[0m\u001b[1;33m(\u001b[0m\u001b[0mself\u001b[0m\u001b[1;33m,\u001b[0m \u001b[0mkey\u001b[0m\u001b[1;33m,\u001b[0m \u001b[0mvalue\u001b[0m\u001b[1;33m)\u001b[0m\u001b[1;33m:\u001b[0m\u001b[1;33m\u001b[0m\u001b[0m\n",
      "\u001b[1;32m~\\AppData\\Local\\Programs\\Python\\Python37-32\\lib\\site-packages\\pandas\\core\\frame.py\u001b[0m in \u001b[0;36m_set_item\u001b[1;34m(self, key, value)\u001b[0m\n\u001b[0;32m   3562\u001b[0m \u001b[1;33m\u001b[0m\u001b[0m\n\u001b[0;32m   3563\u001b[0m         \u001b[0mself\u001b[0m\u001b[1;33m.\u001b[0m\u001b[0m_ensure_valid_index\u001b[0m\u001b[1;33m(\u001b[0m\u001b[0mvalue\u001b[0m\u001b[1;33m)\u001b[0m\u001b[1;33m\u001b[0m\u001b[0m\n\u001b[1;32m-> 3564\u001b[1;33m         \u001b[0mvalue\u001b[0m \u001b[1;33m=\u001b[0m \u001b[0mself\u001b[0m\u001b[1;33m.\u001b[0m\u001b[0m_sanitize_column\u001b[0m\u001b[1;33m(\u001b[0m\u001b[0mkey\u001b[0m\u001b[1;33m,\u001b[0m \u001b[0mvalue\u001b[0m\u001b[1;33m)\u001b[0m\u001b[1;33m\u001b[0m\u001b[0m\n\u001b[0m\u001b[0;32m   3565\u001b[0m         \u001b[0mNDFrame\u001b[0m\u001b[1;33m.\u001b[0m\u001b[0m_set_item\u001b[0m\u001b[1;33m(\u001b[0m\u001b[0mself\u001b[0m\u001b[1;33m,\u001b[0m \u001b[0mkey\u001b[0m\u001b[1;33m,\u001b[0m \u001b[0mvalue\u001b[0m\u001b[1;33m)\u001b[0m\u001b[1;33m\u001b[0m\u001b[0m\n\u001b[0;32m   3566\u001b[0m \u001b[1;33m\u001b[0m\u001b[0m\n",
      "\u001b[1;32m~\\AppData\\Local\\Programs\\Python\\Python37-32\\lib\\site-packages\\pandas\\core\\frame.py\u001b[0m in \u001b[0;36m_sanitize_column\u001b[1;34m(self, key, value, broadcast)\u001b[0m\n\u001b[0;32m   3747\u001b[0m \u001b[1;33m\u001b[0m\u001b[0m\n\u001b[0;32m   3748\u001b[0m             \u001b[1;31m# turn me into an ndarray\u001b[0m\u001b[1;33m\u001b[0m\u001b[1;33m\u001b[0m\u001b[0m\n\u001b[1;32m-> 3749\u001b[1;33m             \u001b[0mvalue\u001b[0m \u001b[1;33m=\u001b[0m \u001b[0msanitize_index\u001b[0m\u001b[1;33m(\u001b[0m\u001b[0mvalue\u001b[0m\u001b[1;33m,\u001b[0m \u001b[0mself\u001b[0m\u001b[1;33m.\u001b[0m\u001b[0mindex\u001b[0m\u001b[1;33m,\u001b[0m \u001b[0mcopy\u001b[0m\u001b[1;33m=\u001b[0m\u001b[1;32mFalse\u001b[0m\u001b[1;33m)\u001b[0m\u001b[1;33m\u001b[0m\u001b[0m\n\u001b[0m\u001b[0;32m   3750\u001b[0m             \u001b[1;32mif\u001b[0m \u001b[1;32mnot\u001b[0m \u001b[0misinstance\u001b[0m\u001b[1;33m(\u001b[0m\u001b[0mvalue\u001b[0m\u001b[1;33m,\u001b[0m \u001b[1;33m(\u001b[0m\u001b[0mnp\u001b[0m\u001b[1;33m.\u001b[0m\u001b[0mndarray\u001b[0m\u001b[1;33m,\u001b[0m \u001b[0mIndex\u001b[0m\u001b[1;33m)\u001b[0m\u001b[1;33m)\u001b[0m\u001b[1;33m:\u001b[0m\u001b[1;33m\u001b[0m\u001b[0m\n\u001b[0;32m   3751\u001b[0m                 \u001b[1;32mif\u001b[0m \u001b[0misinstance\u001b[0m\u001b[1;33m(\u001b[0m\u001b[0mvalue\u001b[0m\u001b[1;33m,\u001b[0m \u001b[0mlist\u001b[0m\u001b[1;33m)\u001b[0m \u001b[1;32mand\u001b[0m \u001b[0mlen\u001b[0m\u001b[1;33m(\u001b[0m\u001b[0mvalue\u001b[0m\u001b[1;33m)\u001b[0m \u001b[1;33m>\u001b[0m \u001b[1;36m0\u001b[0m\u001b[1;33m:\u001b[0m\u001b[1;33m\u001b[0m\u001b[0m\n",
      "\u001b[1;32m~\\AppData\\Local\\Programs\\Python\\Python37-32\\lib\\site-packages\\pandas\\core\\internals\\construction.py\u001b[0m in \u001b[0;36msanitize_index\u001b[1;34m(data, index, copy)\u001b[0m\n\u001b[0;32m    610\u001b[0m \u001b[1;33m\u001b[0m\u001b[0m\n\u001b[0;32m    611\u001b[0m     \u001b[1;32mif\u001b[0m \u001b[0mlen\u001b[0m\u001b[1;33m(\u001b[0m\u001b[0mdata\u001b[0m\u001b[1;33m)\u001b[0m \u001b[1;33m!=\u001b[0m \u001b[0mlen\u001b[0m\u001b[1;33m(\u001b[0m\u001b[0mindex\u001b[0m\u001b[1;33m)\u001b[0m\u001b[1;33m:\u001b[0m\u001b[1;33m\u001b[0m\u001b[0m\n\u001b[1;32m--> 612\u001b[1;33m         \u001b[1;32mraise\u001b[0m \u001b[0mValueError\u001b[0m\u001b[1;33m(\u001b[0m\u001b[1;34m\"Length of values does not match length of index\"\u001b[0m\u001b[1;33m)\u001b[0m\u001b[1;33m\u001b[0m\u001b[0m\n\u001b[0m\u001b[0;32m    613\u001b[0m \u001b[1;33m\u001b[0m\u001b[0m\n\u001b[0;32m    614\u001b[0m     \u001b[1;32mif\u001b[0m \u001b[0misinstance\u001b[0m\u001b[1;33m(\u001b[0m\u001b[0mdata\u001b[0m\u001b[1;33m,\u001b[0m \u001b[0mABCIndexClass\u001b[0m\u001b[1;33m)\u001b[0m \u001b[1;32mand\u001b[0m \u001b[1;32mnot\u001b[0m \u001b[0mcopy\u001b[0m\u001b[1;33m:\u001b[0m\u001b[1;33m\u001b[0m\u001b[0m\n",
      "\u001b[1;31mValueError\u001b[0m: Length of values does not match length of index"
     ]
    }
   ],
   "source": [
    "df2[\"10\"] = [11, 1200, 23, \"US\", 36, \"noday\", ]"
   ]
  }
 ],
 "metadata": {
  "kernelspec": {
   "display_name": "Python 3",
   "language": "python",
   "name": "python3"
  },
  "language_info": {
   "codemirror_mode": {
    "name": "ipython",
    "version": 3
   },
   "file_extension": ".py",
   "mimetype": "text/x-python",
   "name": "python",
   "nbconvert_exporter": "python",
   "pygments_lexer": "ipython3",
   "version": "3.7.0-final"
  }
 },
 "nbformat": 4,
 "nbformat_minor": 2
}